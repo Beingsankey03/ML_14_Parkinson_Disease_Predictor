{
  "nbformat": 4,
  "nbformat_minor": 0,
  "metadata": {
    "colab": {
      "provenance": []
    },
    "kernelspec": {
      "name": "python3",
      "display_name": "Python 3"
    },
    "language_info": {
      "name": "python"
    }
  },
  "cells": [
    {
      "cell_type": "markdown",
      "source": [
        "# **Parrkinson Disease Predictor.**"
      ],
      "metadata": {
        "id": "p7IO1ZemKBpb"
      }
    },
    {
      "cell_type": "markdown",
      "source": [
        "\n",
        "\n",
        "---\n",
        "\n"
      ],
      "metadata": {
        "id": "QeyPMNZWKGaj"
      }
    },
    {
      "cell_type": "markdown",
      "source": [
        "**Importing the Dependencies.**"
      ],
      "metadata": {
        "id": "QF5mrHlOKHxw"
      }
    },
    {
      "cell_type": "code",
      "source": [
        "import numpy as np\n",
        "import pandas as pd\n",
        "from sklearn.model_selection import train_test_split\n",
        "from sklearn.preprocessing import StandardScaler\n",
        "from sklearn import svm\n",
        "from sklearn.metrics import accuracy_score"
      ],
      "metadata": {
        "id": "cumY2HDVKHcb"
      },
      "execution_count": 37,
      "outputs": []
    },
    {
      "cell_type": "markdown",
      "source": [
        "\n",
        "\n",
        "---\n",
        "\n"
      ],
      "metadata": {
        "id": "KXBhlwIQKtiB"
      }
    },
    {
      "cell_type": "markdown",
      "source": [
        "**Data Collection & Analysis**"
      ],
      "metadata": {
        "id": "aY0OyM5wKu8b"
      }
    },
    {
      "cell_type": "code",
      "source": [
        "parkinsons_data = pd.read_csv('/content/sample_data/ReplicatedAcousticFeatures-ParkinsonDatabase2019 - ReplicatedAcousticFeatures-ParkinsonDatabase2019.csv.csv',sep = '')"
      ],
      "metadata": {
        "id": "S6xqECPmKBZB"
      },
      "execution_count": 38,
      "outputs": []
    },
    {
      "cell_type": "code",
      "execution_count": 39,
      "metadata": {
        "colab": {
          "base_uri": "https://localhost:8080/",
          "height": 386
        },
        "id": "J1-1PWPcHl-2",
        "outputId": "a7ee6e62-64c7-446a-8fda-93b76355954a"
      },
      "outputs": [
        {
          "output_type": "execute_result",
          "data": {
            "text/plain": [
              "        ID  Recording  Status  Gender  Jitter_rel  Jitter_abs  Jitter_RAP  \\\n",
              "0  CONT-01          1       0       1     0.25546    0.000015    0.001467   \n",
              "1  CONT-01          2       0       1     0.36964    0.000022    0.001932   \n",
              "2  CONT-01          3       0       1     0.23514    0.000013    0.001353   \n",
              "3  CONT-02          1       0       0     0.29320    0.000017    0.001105   \n",
              "4  CONT-02          2       0       0     0.23075    0.000015    0.001073   \n",
              "\n",
              "   Jitter_PPQ  Shim_loc  Shim_dB  ...         Delta3         Delta4  \\\n",
              "0    0.001673  0.030256  0.26313  ...    140.770.135  1.417.217.679   \n",
              "1    0.002245  0.023146  0.20217  ...  1.331.232.475  1.227.337.997   \n",
              "2    0.001546  0.019338  0.16710  ...  1.412.304.266    132.467.367   \n",
              "3    0.001444  0.024716  0.20892  ...  1.501.200.338  1.534.169.774   \n",
              "4    0.001404  0.013119  0.11607  ...  1.508.468.226    133.451.094   \n",
              "\n",
              "          Delta5         Delta6         Delta7         Delta8         Delta9  \\\n",
              "0  1.380.352.079  1.420.670.048  1.451.239.875  1.440.294.639  1.403.677.959   \n",
              "1    121.337.701  1.352.739.252    135.424.155  1.365.691.608  1.322.869.626   \n",
              "2  1.276.088.292  1.429.634.353  1.455.996.351  1.368.882.037  1.438.052.762   \n",
              "3  1.323.993.163  1.496.442.368  1.472.925.681  1.643.177.002  1.551.286.363   \n",
              "4  1.610.693.848  1.685.020.737  1.417.614.105  1.574.894.688    164.008.832   \n",
              "\n",
              "         Delta10        Delta11        Delta12  \n",
              "0  1.405.494.953  1.416.704.921  1.354.610.287  \n",
              "1  1.314.549.405  1.318.998.737  1.323.508.297  \n",
              "2  1.388.910.263  1.305.469.037  1.305.402.385  \n",
              "3  1.638.346.041  1.604.008.213  1.621.455.742  \n",
              "4  1.533.665.746  1.297.535.597  1.382.022.959  \n",
              "\n",
              "[5 rows x 48 columns]"
            ],
            "text/html": [
              "\n",
              "  <div id=\"df-c39e87a3-2c85-498e-b8f7-780f29560992\">\n",
              "    <div class=\"colab-df-container\">\n",
              "      <div>\n",
              "<style scoped>\n",
              "    .dataframe tbody tr th:only-of-type {\n",
              "        vertical-align: middle;\n",
              "    }\n",
              "\n",
              "    .dataframe tbody tr th {\n",
              "        vertical-align: top;\n",
              "    }\n",
              "\n",
              "    .dataframe thead th {\n",
              "        text-align: right;\n",
              "    }\n",
              "</style>\n",
              "<table border=\"1\" class=\"dataframe\">\n",
              "  <thead>\n",
              "    <tr style=\"text-align: right;\">\n",
              "      <th></th>\n",
              "      <th>ID</th>\n",
              "      <th>Recording</th>\n",
              "      <th>Status</th>\n",
              "      <th>Gender</th>\n",
              "      <th>Jitter_rel</th>\n",
              "      <th>Jitter_abs</th>\n",
              "      <th>Jitter_RAP</th>\n",
              "      <th>Jitter_PPQ</th>\n",
              "      <th>Shim_loc</th>\n",
              "      <th>Shim_dB</th>\n",
              "      <th>...</th>\n",
              "      <th>Delta3</th>\n",
              "      <th>Delta4</th>\n",
              "      <th>Delta5</th>\n",
              "      <th>Delta6</th>\n",
              "      <th>Delta7</th>\n",
              "      <th>Delta8</th>\n",
              "      <th>Delta9</th>\n",
              "      <th>Delta10</th>\n",
              "      <th>Delta11</th>\n",
              "      <th>Delta12</th>\n",
              "    </tr>\n",
              "  </thead>\n",
              "  <tbody>\n",
              "    <tr>\n",
              "      <th>0</th>\n",
              "      <td>CONT-01</td>\n",
              "      <td>1</td>\n",
              "      <td>0</td>\n",
              "      <td>1</td>\n",
              "      <td>0.25546</td>\n",
              "      <td>0.000015</td>\n",
              "      <td>0.001467</td>\n",
              "      <td>0.001673</td>\n",
              "      <td>0.030256</td>\n",
              "      <td>0.26313</td>\n",
              "      <td>...</td>\n",
              "      <td>140.770.135</td>\n",
              "      <td>1.417.217.679</td>\n",
              "      <td>1.380.352.079</td>\n",
              "      <td>1.420.670.048</td>\n",
              "      <td>1.451.239.875</td>\n",
              "      <td>1.440.294.639</td>\n",
              "      <td>1.403.677.959</td>\n",
              "      <td>1.405.494.953</td>\n",
              "      <td>1.416.704.921</td>\n",
              "      <td>1.354.610.287</td>\n",
              "    </tr>\n",
              "    <tr>\n",
              "      <th>1</th>\n",
              "      <td>CONT-01</td>\n",
              "      <td>2</td>\n",
              "      <td>0</td>\n",
              "      <td>1</td>\n",
              "      <td>0.36964</td>\n",
              "      <td>0.000022</td>\n",
              "      <td>0.001932</td>\n",
              "      <td>0.002245</td>\n",
              "      <td>0.023146</td>\n",
              "      <td>0.20217</td>\n",
              "      <td>...</td>\n",
              "      <td>1.331.232.475</td>\n",
              "      <td>1.227.337.997</td>\n",
              "      <td>121.337.701</td>\n",
              "      <td>1.352.739.252</td>\n",
              "      <td>135.424.155</td>\n",
              "      <td>1.365.691.608</td>\n",
              "      <td>1.322.869.626</td>\n",
              "      <td>1.314.549.405</td>\n",
              "      <td>1.318.998.737</td>\n",
              "      <td>1.323.508.297</td>\n",
              "    </tr>\n",
              "    <tr>\n",
              "      <th>2</th>\n",
              "      <td>CONT-01</td>\n",
              "      <td>3</td>\n",
              "      <td>0</td>\n",
              "      <td>1</td>\n",
              "      <td>0.23514</td>\n",
              "      <td>0.000013</td>\n",
              "      <td>0.001353</td>\n",
              "      <td>0.001546</td>\n",
              "      <td>0.019338</td>\n",
              "      <td>0.16710</td>\n",
              "      <td>...</td>\n",
              "      <td>1.412.304.266</td>\n",
              "      <td>132.467.367</td>\n",
              "      <td>1.276.088.292</td>\n",
              "      <td>1.429.634.353</td>\n",
              "      <td>1.455.996.351</td>\n",
              "      <td>1.368.882.037</td>\n",
              "      <td>1.438.052.762</td>\n",
              "      <td>1.388.910.263</td>\n",
              "      <td>1.305.469.037</td>\n",
              "      <td>1.305.402.385</td>\n",
              "    </tr>\n",
              "    <tr>\n",
              "      <th>3</th>\n",
              "      <td>CONT-02</td>\n",
              "      <td>1</td>\n",
              "      <td>0</td>\n",
              "      <td>0</td>\n",
              "      <td>0.29320</td>\n",
              "      <td>0.000017</td>\n",
              "      <td>0.001105</td>\n",
              "      <td>0.001444</td>\n",
              "      <td>0.024716</td>\n",
              "      <td>0.20892</td>\n",
              "      <td>...</td>\n",
              "      <td>1.501.200.338</td>\n",
              "      <td>1.534.169.774</td>\n",
              "      <td>1.323.993.163</td>\n",
              "      <td>1.496.442.368</td>\n",
              "      <td>1.472.925.681</td>\n",
              "      <td>1.643.177.002</td>\n",
              "      <td>1.551.286.363</td>\n",
              "      <td>1.638.346.041</td>\n",
              "      <td>1.604.008.213</td>\n",
              "      <td>1.621.455.742</td>\n",
              "    </tr>\n",
              "    <tr>\n",
              "      <th>4</th>\n",
              "      <td>CONT-02</td>\n",
              "      <td>2</td>\n",
              "      <td>0</td>\n",
              "      <td>0</td>\n",
              "      <td>0.23075</td>\n",
              "      <td>0.000015</td>\n",
              "      <td>0.001073</td>\n",
              "      <td>0.001404</td>\n",
              "      <td>0.013119</td>\n",
              "      <td>0.11607</td>\n",
              "      <td>...</td>\n",
              "      <td>1.508.468.226</td>\n",
              "      <td>133.451.094</td>\n",
              "      <td>1.610.693.848</td>\n",
              "      <td>1.685.020.737</td>\n",
              "      <td>1.417.614.105</td>\n",
              "      <td>1.574.894.688</td>\n",
              "      <td>164.008.832</td>\n",
              "      <td>1.533.665.746</td>\n",
              "      <td>1.297.535.597</td>\n",
              "      <td>1.382.022.959</td>\n",
              "    </tr>\n",
              "  </tbody>\n",
              "</table>\n",
              "<p>5 rows × 48 columns</p>\n",
              "</div>\n",
              "      <button class=\"colab-df-convert\" onclick=\"convertToInteractive('df-c39e87a3-2c85-498e-b8f7-780f29560992')\"\n",
              "              title=\"Convert this dataframe to an interactive table.\"\n",
              "              style=\"display:none;\">\n",
              "        \n",
              "  <svg xmlns=\"http://www.w3.org/2000/svg\" height=\"24px\"viewBox=\"0 0 24 24\"\n",
              "       width=\"24px\">\n",
              "    <path d=\"M0 0h24v24H0V0z\" fill=\"none\"/>\n",
              "    <path d=\"M18.56 5.44l.94 2.06.94-2.06 2.06-.94-2.06-.94-.94-2.06-.94 2.06-2.06.94zm-11 1L8.5 8.5l.94-2.06 2.06-.94-2.06-.94L8.5 2.5l-.94 2.06-2.06.94zm10 10l.94 2.06.94-2.06 2.06-.94-2.06-.94-.94-2.06-.94 2.06-2.06.94z\"/><path d=\"M17.41 7.96l-1.37-1.37c-.4-.4-.92-.59-1.43-.59-.52 0-1.04.2-1.43.59L10.3 9.45l-7.72 7.72c-.78.78-.78 2.05 0 2.83L4 21.41c.39.39.9.59 1.41.59.51 0 1.02-.2 1.41-.59l7.78-7.78 2.81-2.81c.8-.78.8-2.07 0-2.86zM5.41 20L4 18.59l7.72-7.72 1.47 1.35L5.41 20z\"/>\n",
              "  </svg>\n",
              "      </button>\n",
              "      \n",
              "  <style>\n",
              "    .colab-df-container {\n",
              "      display:flex;\n",
              "      flex-wrap:wrap;\n",
              "      gap: 12px;\n",
              "    }\n",
              "\n",
              "    .colab-df-convert {\n",
              "      background-color: #E8F0FE;\n",
              "      border: none;\n",
              "      border-radius: 50%;\n",
              "      cursor: pointer;\n",
              "      display: none;\n",
              "      fill: #1967D2;\n",
              "      height: 32px;\n",
              "      padding: 0 0 0 0;\n",
              "      width: 32px;\n",
              "    }\n",
              "\n",
              "    .colab-df-convert:hover {\n",
              "      background-color: #E2EBFA;\n",
              "      box-shadow: 0px 1px 2px rgba(60, 64, 67, 0.3), 0px 1px 3px 1px rgba(60, 64, 67, 0.15);\n",
              "      fill: #174EA6;\n",
              "    }\n",
              "\n",
              "    [theme=dark] .colab-df-convert {\n",
              "      background-color: #3B4455;\n",
              "      fill: #D2E3FC;\n",
              "    }\n",
              "\n",
              "    [theme=dark] .colab-df-convert:hover {\n",
              "      background-color: #434B5C;\n",
              "      box-shadow: 0px 1px 3px 1px rgba(0, 0, 0, 0.15);\n",
              "      filter: drop-shadow(0px 1px 2px rgba(0, 0, 0, 0.3));\n",
              "      fill: #FFFFFF;\n",
              "    }\n",
              "  </style>\n",
              "\n",
              "      <script>\n",
              "        const buttonEl =\n",
              "          document.querySelector('#df-c39e87a3-2c85-498e-b8f7-780f29560992 button.colab-df-convert');\n",
              "        buttonEl.style.display =\n",
              "          google.colab.kernel.accessAllowed ? 'block' : 'none';\n",
              "\n",
              "        async function convertToInteractive(key) {\n",
              "          const element = document.querySelector('#df-c39e87a3-2c85-498e-b8f7-780f29560992');\n",
              "          const dataTable =\n",
              "            await google.colab.kernel.invokeFunction('convertToInteractive',\n",
              "                                                     [key], {});\n",
              "          if (!dataTable) return;\n",
              "\n",
              "          const docLinkHtml = 'Like what you see? Visit the ' +\n",
              "            '<a target=\"_blank\" href=https://colab.research.google.com/notebooks/data_table.ipynb>data table notebook</a>'\n",
              "            + ' to learn more about interactive tables.';\n",
              "          element.innerHTML = '';\n",
              "          dataTable['output_type'] = 'display_data';\n",
              "          await google.colab.output.renderOutput(dataTable, element);\n",
              "          const docLink = document.createElement('div');\n",
              "          docLink.innerHTML = docLinkHtml;\n",
              "          element.appendChild(docLink);\n",
              "        }\n",
              "      </script>\n",
              "    </div>\n",
              "  </div>\n",
              "  "
            ]
          },
          "metadata": {},
          "execution_count": 39
        }
      ],
      "source": [
        "parkinsons_data.head()"
      ]
    },
    {
      "cell_type": "code",
      "source": [
        "parkinsons_data.shape"
      ],
      "metadata": {
        "colab": {
          "base_uri": "https://localhost:8080/"
        },
        "id": "GJb-uz4cLydK",
        "outputId": "d9c7e7c4-cb22-4671-ec11-d867132efd4d"
      },
      "execution_count": 40,
      "outputs": [
        {
          "output_type": "execute_result",
          "data": {
            "text/plain": [
              "(240, 48)"
            ]
          },
          "metadata": {},
          "execution_count": 40
        }
      ]
    },
    {
      "cell_type": "code",
      "source": [
        "parkinsons_data.info()"
      ],
      "metadata": {
        "colab": {
          "base_uri": "https://localhost:8080/"
        },
        "id": "NDLp12myL0-P",
        "outputId": "63648fe6-d286-45bd-8c35-5aed59bf745c"
      },
      "execution_count": 41,
      "outputs": [
        {
          "output_type": "stream",
          "name": "stdout",
          "text": [
            "<class 'pandas.core.frame.DataFrame'>\n",
            "RangeIndex: 240 entries, 0 to 239\n",
            "Data columns (total 48 columns):\n",
            " #   Column      Non-Null Count  Dtype  \n",
            "---  ------      --------------  -----  \n",
            " 0   ID          240 non-null    object \n",
            " 1   Recording   240 non-null    int64  \n",
            " 2   Status      240 non-null    int64  \n",
            " 3   Gender      240 non-null    int64  \n",
            " 4   Jitter_rel  240 non-null    float64\n",
            " 5   Jitter_abs  240 non-null    float64\n",
            " 6   Jitter_RAP  240 non-null    float64\n",
            " 7   Jitter_PPQ  240 non-null    float64\n",
            " 8   Shim_loc    240 non-null    float64\n",
            " 9   Shim_dB     240 non-null    float64\n",
            " 10  Shim_APQ3   240 non-null    float64\n",
            " 11  Shim_APQ5   240 non-null    float64\n",
            " 12  Shi_APQ11   240 non-null    float64\n",
            " 13  HNR05       240 non-null    object \n",
            " 14  HNR15       240 non-null    object \n",
            " 15  HNR25       240 non-null    object \n",
            " 16  HNR35       240 non-null    object \n",
            " 17  HNR38       240 non-null    object \n",
            " 18  RPDE        240 non-null    float64\n",
            " 19  DFA         240 non-null    float64\n",
            " 20  PPE         240 non-null    float64\n",
            " 21  GNE         240 non-null    float64\n",
            " 22  MFCC0       240 non-null    object \n",
            " 23  MFCC1       240 non-null    object \n",
            " 24  MFCC2       240 non-null    object \n",
            " 25  MFCC3       240 non-null    object \n",
            " 26  MFCC4       240 non-null    object \n",
            " 27  MFCC5       240 non-null    object \n",
            " 28  MFCC6       240 non-null    object \n",
            " 29  MFCC7       240 non-null    object \n",
            " 30  MFCC8       240 non-null    object \n",
            " 31  MFCC9       240 non-null    object \n",
            " 32  MFCC10      240 non-null    object \n",
            " 33  MFCC11      240 non-null    object \n",
            " 34  MFCC12      240 non-null    object \n",
            " 35  Delta0      240 non-null    object \n",
            " 36  Delta1      240 non-null    object \n",
            " 37  Delta2      240 non-null    object \n",
            " 38  Delta3      240 non-null    object \n",
            " 39  Delta4      240 non-null    object \n",
            " 40  Delta5      240 non-null    object \n",
            " 41  Delta6      240 non-null    object \n",
            " 42  Delta7      240 non-null    object \n",
            " 43  Delta8      240 non-null    object \n",
            " 44  Delta9      240 non-null    object \n",
            " 45  Delta10     240 non-null    object \n",
            " 46  Delta11     240 non-null    object \n",
            " 47  Delta12     240 non-null    object \n",
            "dtypes: float64(13), int64(3), object(32)\n",
            "memory usage: 90.1+ KB\n"
          ]
        }
      ]
    },
    {
      "cell_type": "code",
      "source": [
        "parkinsons_data.isnull().sum()"
      ],
      "metadata": {
        "colab": {
          "base_uri": "https://localhost:8080/"
        },
        "id": "Dz-5YApAMj31",
        "outputId": "e92e8195-1180-4204-d614-f7a9cfb3932a"
      },
      "execution_count": 42,
      "outputs": [
        {
          "output_type": "execute_result",
          "data": {
            "text/plain": [
              "ID            0\n",
              "Recording     0\n",
              "Status        0\n",
              "Gender        0\n",
              "Jitter_rel    0\n",
              "Jitter_abs    0\n",
              "Jitter_RAP    0\n",
              "Jitter_PPQ    0\n",
              "Shim_loc      0\n",
              "Shim_dB       0\n",
              "Shim_APQ3     0\n",
              "Shim_APQ5     0\n",
              "Shi_APQ11     0\n",
              "HNR05         0\n",
              "HNR15         0\n",
              "HNR25         0\n",
              "HNR35         0\n",
              "HNR38         0\n",
              "RPDE          0\n",
              "DFA           0\n",
              "PPE           0\n",
              "GNE           0\n",
              "MFCC0         0\n",
              "MFCC1         0\n",
              "MFCC2         0\n",
              "MFCC3         0\n",
              "MFCC4         0\n",
              "MFCC5         0\n",
              "MFCC6         0\n",
              "MFCC7         0\n",
              "MFCC8         0\n",
              "MFCC9         0\n",
              "MFCC10        0\n",
              "MFCC11        0\n",
              "MFCC12        0\n",
              "Delta0        0\n",
              "Delta1        0\n",
              "Delta2        0\n",
              "Delta3        0\n",
              "Delta4        0\n",
              "Delta5        0\n",
              "Delta6        0\n",
              "Delta7        0\n",
              "Delta8        0\n",
              "Delta9        0\n",
              "Delta10       0\n",
              "Delta11       0\n",
              "Delta12       0\n",
              "dtype: int64"
            ]
          },
          "metadata": {},
          "execution_count": 42
        }
      ]
    },
    {
      "cell_type": "code",
      "source": [
        "parkinsons_data.describe()"
      ],
      "metadata": {
        "colab": {
          "base_uri": "https://localhost:8080/",
          "height": 364
        },
        "id": "BEvglKN0Mq7F",
        "outputId": "d7a47a72-b889-4467-f45b-08a8a3aa1763"
      },
      "execution_count": 43,
      "outputs": [
        {
          "output_type": "execute_result",
          "data": {
            "text/plain": [
              "        Recording      Status      Gender  Jitter_rel  Jitter_abs  Jitter_RAP  \\\n",
              "count  240.000000  240.000000  240.000000  240.000000  240.000000  240.000000   \n",
              "mean     2.000000    0.500000    0.400000    1.843497    0.000044    0.003172   \n",
              "std      0.818203    0.501045    0.490922    5.714158    0.000045    0.003373   \n",
              "min      1.000000    0.000000    0.000000    0.148010    0.000007    0.000678   \n",
              "25%      1.000000    0.000000    0.000000    0.298260    0.000019    0.001551   \n",
              "50%      2.000000    0.500000    0.000000    0.481455    0.000035    0.002337   \n",
              "75%      3.000000    1.000000    1.000000    0.680590    0.000056    0.003678   \n",
              "max      3.000000    1.000000    1.000000   68.382000    0.000550    0.043843   \n",
              "\n",
              "       Jitter_PPQ    Shim_loc     Shim_dB   Shim_APQ3   Shim_APQ5   Shi_APQ11  \\\n",
              "count  240.000000  240.000000  240.000000  240.000000  240.000000  240.000000   \n",
              "mean     0.003532    0.038428    0.509062    0.021499    0.023468    0.028671   \n",
              "std      0.004449    0.023213    1.685121    0.013787    0.014402    0.016610   \n",
              "min      0.001036    0.007444    0.064989    0.003344    0.004103    0.006459   \n",
              "25%      0.001867    0.024336    0.211785    0.012910    0.014985    0.019180   \n",
              "50%      0.002870    0.032960    0.287885    0.018571    0.019897    0.024909   \n",
              "75%      0.003991    0.045475    0.399860    0.025784    0.027900    0.033757   \n",
              "max      0.065199    0.192600   17.476000    0.113240    0.120760    0.142440   \n",
              "\n",
              "             RPDE         DFA         PPE         GNE  \n",
              "count  240.000000  240.000000  240.000000  240.000000  \n",
              "mean     0.310517    0.612911    0.271958    0.917801  \n",
              "std      0.065639    0.077780    0.229851    0.033911  \n",
              "min      0.162762    0.411359    0.004127    0.847307  \n",
              "25%      0.263217    0.556756    0.040811    0.891408  \n",
              "50%      0.305054    0.606502    0.246486    0.912809  \n",
              "75%      0.349273    0.661144    0.405402    0.946479  \n",
              "max      0.535953    0.784376    0.908395    0.987292  "
            ],
            "text/html": [
              "\n",
              "  <div id=\"df-d298aaff-49ed-4d0a-91ac-0c797f3c02a0\">\n",
              "    <div class=\"colab-df-container\">\n",
              "      <div>\n",
              "<style scoped>\n",
              "    .dataframe tbody tr th:only-of-type {\n",
              "        vertical-align: middle;\n",
              "    }\n",
              "\n",
              "    .dataframe tbody tr th {\n",
              "        vertical-align: top;\n",
              "    }\n",
              "\n",
              "    .dataframe thead th {\n",
              "        text-align: right;\n",
              "    }\n",
              "</style>\n",
              "<table border=\"1\" class=\"dataframe\">\n",
              "  <thead>\n",
              "    <tr style=\"text-align: right;\">\n",
              "      <th></th>\n",
              "      <th>Recording</th>\n",
              "      <th>Status</th>\n",
              "      <th>Gender</th>\n",
              "      <th>Jitter_rel</th>\n",
              "      <th>Jitter_abs</th>\n",
              "      <th>Jitter_RAP</th>\n",
              "      <th>Jitter_PPQ</th>\n",
              "      <th>Shim_loc</th>\n",
              "      <th>Shim_dB</th>\n",
              "      <th>Shim_APQ3</th>\n",
              "      <th>Shim_APQ5</th>\n",
              "      <th>Shi_APQ11</th>\n",
              "      <th>RPDE</th>\n",
              "      <th>DFA</th>\n",
              "      <th>PPE</th>\n",
              "      <th>GNE</th>\n",
              "    </tr>\n",
              "  </thead>\n",
              "  <tbody>\n",
              "    <tr>\n",
              "      <th>count</th>\n",
              "      <td>240.000000</td>\n",
              "      <td>240.000000</td>\n",
              "      <td>240.000000</td>\n",
              "      <td>240.000000</td>\n",
              "      <td>240.000000</td>\n",
              "      <td>240.000000</td>\n",
              "      <td>240.000000</td>\n",
              "      <td>240.000000</td>\n",
              "      <td>240.000000</td>\n",
              "      <td>240.000000</td>\n",
              "      <td>240.000000</td>\n",
              "      <td>240.000000</td>\n",
              "      <td>240.000000</td>\n",
              "      <td>240.000000</td>\n",
              "      <td>240.000000</td>\n",
              "      <td>240.000000</td>\n",
              "    </tr>\n",
              "    <tr>\n",
              "      <th>mean</th>\n",
              "      <td>2.000000</td>\n",
              "      <td>0.500000</td>\n",
              "      <td>0.400000</td>\n",
              "      <td>1.843497</td>\n",
              "      <td>0.000044</td>\n",
              "      <td>0.003172</td>\n",
              "      <td>0.003532</td>\n",
              "      <td>0.038428</td>\n",
              "      <td>0.509062</td>\n",
              "      <td>0.021499</td>\n",
              "      <td>0.023468</td>\n",
              "      <td>0.028671</td>\n",
              "      <td>0.310517</td>\n",
              "      <td>0.612911</td>\n",
              "      <td>0.271958</td>\n",
              "      <td>0.917801</td>\n",
              "    </tr>\n",
              "    <tr>\n",
              "      <th>std</th>\n",
              "      <td>0.818203</td>\n",
              "      <td>0.501045</td>\n",
              "      <td>0.490922</td>\n",
              "      <td>5.714158</td>\n",
              "      <td>0.000045</td>\n",
              "      <td>0.003373</td>\n",
              "      <td>0.004449</td>\n",
              "      <td>0.023213</td>\n",
              "      <td>1.685121</td>\n",
              "      <td>0.013787</td>\n",
              "      <td>0.014402</td>\n",
              "      <td>0.016610</td>\n",
              "      <td>0.065639</td>\n",
              "      <td>0.077780</td>\n",
              "      <td>0.229851</td>\n",
              "      <td>0.033911</td>\n",
              "    </tr>\n",
              "    <tr>\n",
              "      <th>min</th>\n",
              "      <td>1.000000</td>\n",
              "      <td>0.000000</td>\n",
              "      <td>0.000000</td>\n",
              "      <td>0.148010</td>\n",
              "      <td>0.000007</td>\n",
              "      <td>0.000678</td>\n",
              "      <td>0.001036</td>\n",
              "      <td>0.007444</td>\n",
              "      <td>0.064989</td>\n",
              "      <td>0.003344</td>\n",
              "      <td>0.004103</td>\n",
              "      <td>0.006459</td>\n",
              "      <td>0.162762</td>\n",
              "      <td>0.411359</td>\n",
              "      <td>0.004127</td>\n",
              "      <td>0.847307</td>\n",
              "    </tr>\n",
              "    <tr>\n",
              "      <th>25%</th>\n",
              "      <td>1.000000</td>\n",
              "      <td>0.000000</td>\n",
              "      <td>0.000000</td>\n",
              "      <td>0.298260</td>\n",
              "      <td>0.000019</td>\n",
              "      <td>0.001551</td>\n",
              "      <td>0.001867</td>\n",
              "      <td>0.024336</td>\n",
              "      <td>0.211785</td>\n",
              "      <td>0.012910</td>\n",
              "      <td>0.014985</td>\n",
              "      <td>0.019180</td>\n",
              "      <td>0.263217</td>\n",
              "      <td>0.556756</td>\n",
              "      <td>0.040811</td>\n",
              "      <td>0.891408</td>\n",
              "    </tr>\n",
              "    <tr>\n",
              "      <th>50%</th>\n",
              "      <td>2.000000</td>\n",
              "      <td>0.500000</td>\n",
              "      <td>0.000000</td>\n",
              "      <td>0.481455</td>\n",
              "      <td>0.000035</td>\n",
              "      <td>0.002337</td>\n",
              "      <td>0.002870</td>\n",
              "      <td>0.032960</td>\n",
              "      <td>0.287885</td>\n",
              "      <td>0.018571</td>\n",
              "      <td>0.019897</td>\n",
              "      <td>0.024909</td>\n",
              "      <td>0.305054</td>\n",
              "      <td>0.606502</td>\n",
              "      <td>0.246486</td>\n",
              "      <td>0.912809</td>\n",
              "    </tr>\n",
              "    <tr>\n",
              "      <th>75%</th>\n",
              "      <td>3.000000</td>\n",
              "      <td>1.000000</td>\n",
              "      <td>1.000000</td>\n",
              "      <td>0.680590</td>\n",
              "      <td>0.000056</td>\n",
              "      <td>0.003678</td>\n",
              "      <td>0.003991</td>\n",
              "      <td>0.045475</td>\n",
              "      <td>0.399860</td>\n",
              "      <td>0.025784</td>\n",
              "      <td>0.027900</td>\n",
              "      <td>0.033757</td>\n",
              "      <td>0.349273</td>\n",
              "      <td>0.661144</td>\n",
              "      <td>0.405402</td>\n",
              "      <td>0.946479</td>\n",
              "    </tr>\n",
              "    <tr>\n",
              "      <th>max</th>\n",
              "      <td>3.000000</td>\n",
              "      <td>1.000000</td>\n",
              "      <td>1.000000</td>\n",
              "      <td>68.382000</td>\n",
              "      <td>0.000550</td>\n",
              "      <td>0.043843</td>\n",
              "      <td>0.065199</td>\n",
              "      <td>0.192600</td>\n",
              "      <td>17.476000</td>\n",
              "      <td>0.113240</td>\n",
              "      <td>0.120760</td>\n",
              "      <td>0.142440</td>\n",
              "      <td>0.535953</td>\n",
              "      <td>0.784376</td>\n",
              "      <td>0.908395</td>\n",
              "      <td>0.987292</td>\n",
              "    </tr>\n",
              "  </tbody>\n",
              "</table>\n",
              "</div>\n",
              "      <button class=\"colab-df-convert\" onclick=\"convertToInteractive('df-d298aaff-49ed-4d0a-91ac-0c797f3c02a0')\"\n",
              "              title=\"Convert this dataframe to an interactive table.\"\n",
              "              style=\"display:none;\">\n",
              "        \n",
              "  <svg xmlns=\"http://www.w3.org/2000/svg\" height=\"24px\"viewBox=\"0 0 24 24\"\n",
              "       width=\"24px\">\n",
              "    <path d=\"M0 0h24v24H0V0z\" fill=\"none\"/>\n",
              "    <path d=\"M18.56 5.44l.94 2.06.94-2.06 2.06-.94-2.06-.94-.94-2.06-.94 2.06-2.06.94zm-11 1L8.5 8.5l.94-2.06 2.06-.94-2.06-.94L8.5 2.5l-.94 2.06-2.06.94zm10 10l.94 2.06.94-2.06 2.06-.94-2.06-.94-.94-2.06-.94 2.06-2.06.94z\"/><path d=\"M17.41 7.96l-1.37-1.37c-.4-.4-.92-.59-1.43-.59-.52 0-1.04.2-1.43.59L10.3 9.45l-7.72 7.72c-.78.78-.78 2.05 0 2.83L4 21.41c.39.39.9.59 1.41.59.51 0 1.02-.2 1.41-.59l7.78-7.78 2.81-2.81c.8-.78.8-2.07 0-2.86zM5.41 20L4 18.59l7.72-7.72 1.47 1.35L5.41 20z\"/>\n",
              "  </svg>\n",
              "      </button>\n",
              "      \n",
              "  <style>\n",
              "    .colab-df-container {\n",
              "      display:flex;\n",
              "      flex-wrap:wrap;\n",
              "      gap: 12px;\n",
              "    }\n",
              "\n",
              "    .colab-df-convert {\n",
              "      background-color: #E8F0FE;\n",
              "      border: none;\n",
              "      border-radius: 50%;\n",
              "      cursor: pointer;\n",
              "      display: none;\n",
              "      fill: #1967D2;\n",
              "      height: 32px;\n",
              "      padding: 0 0 0 0;\n",
              "      width: 32px;\n",
              "    }\n",
              "\n",
              "    .colab-df-convert:hover {\n",
              "      background-color: #E2EBFA;\n",
              "      box-shadow: 0px 1px 2px rgba(60, 64, 67, 0.3), 0px 1px 3px 1px rgba(60, 64, 67, 0.15);\n",
              "      fill: #174EA6;\n",
              "    }\n",
              "\n",
              "    [theme=dark] .colab-df-convert {\n",
              "      background-color: #3B4455;\n",
              "      fill: #D2E3FC;\n",
              "    }\n",
              "\n",
              "    [theme=dark] .colab-df-convert:hover {\n",
              "      background-color: #434B5C;\n",
              "      box-shadow: 0px 1px 3px 1px rgba(0, 0, 0, 0.15);\n",
              "      filter: drop-shadow(0px 1px 2px rgba(0, 0, 0, 0.3));\n",
              "      fill: #FFFFFF;\n",
              "    }\n",
              "  </style>\n",
              "\n",
              "      <script>\n",
              "        const buttonEl =\n",
              "          document.querySelector('#df-d298aaff-49ed-4d0a-91ac-0c797f3c02a0 button.colab-df-convert');\n",
              "        buttonEl.style.display =\n",
              "          google.colab.kernel.accessAllowed ? 'block' : 'none';\n",
              "\n",
              "        async function convertToInteractive(key) {\n",
              "          const element = document.querySelector('#df-d298aaff-49ed-4d0a-91ac-0c797f3c02a0');\n",
              "          const dataTable =\n",
              "            await google.colab.kernel.invokeFunction('convertToInteractive',\n",
              "                                                     [key], {});\n",
              "          if (!dataTable) return;\n",
              "\n",
              "          const docLinkHtml = 'Like what you see? Visit the ' +\n",
              "            '<a target=\"_blank\" href=https://colab.research.google.com/notebooks/data_table.ipynb>data table notebook</a>'\n",
              "            + ' to learn more about interactive tables.';\n",
              "          element.innerHTML = '';\n",
              "          dataTable['output_type'] = 'display_data';\n",
              "          await google.colab.output.renderOutput(dataTable, element);\n",
              "          const docLink = document.createElement('div');\n",
              "          docLink.innerHTML = docLinkHtml;\n",
              "          element.appendChild(docLink);\n",
              "        }\n",
              "      </script>\n",
              "    </div>\n",
              "  </div>\n",
              "  "
            ]
          },
          "metadata": {},
          "execution_count": 43
        }
      ]
    },
    {
      "cell_type": "code",
      "source": [
        "parkinsons_data['Status'].value_counts()"
      ],
      "metadata": {
        "colab": {
          "base_uri": "https://localhost:8080/"
        },
        "id": "0INrhhJMQxhN",
        "outputId": "b46d9893-5fd7-4f81-bc40-306c7e5370ad"
      },
      "execution_count": 44,
      "outputs": [
        {
          "output_type": "execute_result",
          "data": {
            "text/plain": [
              "0    120\n",
              "1    120\n",
              "Name: Status, dtype: int64"
            ]
          },
          "metadata": {},
          "execution_count": 44
        }
      ]
    },
    {
      "cell_type": "code",
      "source": [
        "parkinsons_data.groupby('Status').mean()"
      ],
      "metadata": {
        "colab": {
          "base_uri": "https://localhost:8080/",
          "height": 207
        },
        "id": "O7gbyLSjQ3Rv",
        "outputId": "0676faaf-2dea-4dc2-9ee4-36bacda674eb"
      },
      "execution_count": 45,
      "outputs": [
        {
          "output_type": "execute_result",
          "data": {
            "text/plain": [
              "        Recording  Gender  Jitter_rel  Jitter_abs  Jitter_RAP  Jitter_PPQ  \\\n",
              "Status                                                                      \n",
              "0             2.0    0.45    0.879544    0.000040    0.002486    0.002787   \n",
              "1             2.0    0.35    2.807450    0.000049    0.003858    0.004277   \n",
              "\n",
              "        Shim_loc   Shim_dB  Shim_APQ3  Shim_APQ5  Shi_APQ11      RPDE  \\\n",
              "Status                                                                  \n",
              "0       0.032928  0.287586   0.018054   0.019978   0.025368  0.305291   \n",
              "1       0.043928  0.730539   0.024945   0.026959   0.031974  0.315743   \n",
              "\n",
              "             DFA       PPE       GNE  \n",
              "Status                                \n",
              "0       0.613922  0.241934  0.927783  \n",
              "1       0.611899  0.301983  0.907820  "
            ],
            "text/html": [
              "\n",
              "  <div id=\"df-06abc7db-d6a4-4123-8e13-f319c39d5470\">\n",
              "    <div class=\"colab-df-container\">\n",
              "      <div>\n",
              "<style scoped>\n",
              "    .dataframe tbody tr th:only-of-type {\n",
              "        vertical-align: middle;\n",
              "    }\n",
              "\n",
              "    .dataframe tbody tr th {\n",
              "        vertical-align: top;\n",
              "    }\n",
              "\n",
              "    .dataframe thead th {\n",
              "        text-align: right;\n",
              "    }\n",
              "</style>\n",
              "<table border=\"1\" class=\"dataframe\">\n",
              "  <thead>\n",
              "    <tr style=\"text-align: right;\">\n",
              "      <th></th>\n",
              "      <th>Recording</th>\n",
              "      <th>Gender</th>\n",
              "      <th>Jitter_rel</th>\n",
              "      <th>Jitter_abs</th>\n",
              "      <th>Jitter_RAP</th>\n",
              "      <th>Jitter_PPQ</th>\n",
              "      <th>Shim_loc</th>\n",
              "      <th>Shim_dB</th>\n",
              "      <th>Shim_APQ3</th>\n",
              "      <th>Shim_APQ5</th>\n",
              "      <th>Shi_APQ11</th>\n",
              "      <th>RPDE</th>\n",
              "      <th>DFA</th>\n",
              "      <th>PPE</th>\n",
              "      <th>GNE</th>\n",
              "    </tr>\n",
              "    <tr>\n",
              "      <th>Status</th>\n",
              "      <th></th>\n",
              "      <th></th>\n",
              "      <th></th>\n",
              "      <th></th>\n",
              "      <th></th>\n",
              "      <th></th>\n",
              "      <th></th>\n",
              "      <th></th>\n",
              "      <th></th>\n",
              "      <th></th>\n",
              "      <th></th>\n",
              "      <th></th>\n",
              "      <th></th>\n",
              "      <th></th>\n",
              "      <th></th>\n",
              "    </tr>\n",
              "  </thead>\n",
              "  <tbody>\n",
              "    <tr>\n",
              "      <th>0</th>\n",
              "      <td>2.0</td>\n",
              "      <td>0.45</td>\n",
              "      <td>0.879544</td>\n",
              "      <td>0.000040</td>\n",
              "      <td>0.002486</td>\n",
              "      <td>0.002787</td>\n",
              "      <td>0.032928</td>\n",
              "      <td>0.287586</td>\n",
              "      <td>0.018054</td>\n",
              "      <td>0.019978</td>\n",
              "      <td>0.025368</td>\n",
              "      <td>0.305291</td>\n",
              "      <td>0.613922</td>\n",
              "      <td>0.241934</td>\n",
              "      <td>0.927783</td>\n",
              "    </tr>\n",
              "    <tr>\n",
              "      <th>1</th>\n",
              "      <td>2.0</td>\n",
              "      <td>0.35</td>\n",
              "      <td>2.807450</td>\n",
              "      <td>0.000049</td>\n",
              "      <td>0.003858</td>\n",
              "      <td>0.004277</td>\n",
              "      <td>0.043928</td>\n",
              "      <td>0.730539</td>\n",
              "      <td>0.024945</td>\n",
              "      <td>0.026959</td>\n",
              "      <td>0.031974</td>\n",
              "      <td>0.315743</td>\n",
              "      <td>0.611899</td>\n",
              "      <td>0.301983</td>\n",
              "      <td>0.907820</td>\n",
              "    </tr>\n",
              "  </tbody>\n",
              "</table>\n",
              "</div>\n",
              "      <button class=\"colab-df-convert\" onclick=\"convertToInteractive('df-06abc7db-d6a4-4123-8e13-f319c39d5470')\"\n",
              "              title=\"Convert this dataframe to an interactive table.\"\n",
              "              style=\"display:none;\">\n",
              "        \n",
              "  <svg xmlns=\"http://www.w3.org/2000/svg\" height=\"24px\"viewBox=\"0 0 24 24\"\n",
              "       width=\"24px\">\n",
              "    <path d=\"M0 0h24v24H0V0z\" fill=\"none\"/>\n",
              "    <path d=\"M18.56 5.44l.94 2.06.94-2.06 2.06-.94-2.06-.94-.94-2.06-.94 2.06-2.06.94zm-11 1L8.5 8.5l.94-2.06 2.06-.94-2.06-.94L8.5 2.5l-.94 2.06-2.06.94zm10 10l.94 2.06.94-2.06 2.06-.94-2.06-.94-.94-2.06-.94 2.06-2.06.94z\"/><path d=\"M17.41 7.96l-1.37-1.37c-.4-.4-.92-.59-1.43-.59-.52 0-1.04.2-1.43.59L10.3 9.45l-7.72 7.72c-.78.78-.78 2.05 0 2.83L4 21.41c.39.39.9.59 1.41.59.51 0 1.02-.2 1.41-.59l7.78-7.78 2.81-2.81c.8-.78.8-2.07 0-2.86zM5.41 20L4 18.59l7.72-7.72 1.47 1.35L5.41 20z\"/>\n",
              "  </svg>\n",
              "      </button>\n",
              "      \n",
              "  <style>\n",
              "    .colab-df-container {\n",
              "      display:flex;\n",
              "      flex-wrap:wrap;\n",
              "      gap: 12px;\n",
              "    }\n",
              "\n",
              "    .colab-df-convert {\n",
              "      background-color: #E8F0FE;\n",
              "      border: none;\n",
              "      border-radius: 50%;\n",
              "      cursor: pointer;\n",
              "      display: none;\n",
              "      fill: #1967D2;\n",
              "      height: 32px;\n",
              "      padding: 0 0 0 0;\n",
              "      width: 32px;\n",
              "    }\n",
              "\n",
              "    .colab-df-convert:hover {\n",
              "      background-color: #E2EBFA;\n",
              "      box-shadow: 0px 1px 2px rgba(60, 64, 67, 0.3), 0px 1px 3px 1px rgba(60, 64, 67, 0.15);\n",
              "      fill: #174EA6;\n",
              "    }\n",
              "\n",
              "    [theme=dark] .colab-df-convert {\n",
              "      background-color: #3B4455;\n",
              "      fill: #D2E3FC;\n",
              "    }\n",
              "\n",
              "    [theme=dark] .colab-df-convert:hover {\n",
              "      background-color: #434B5C;\n",
              "      box-shadow: 0px 1px 3px 1px rgba(0, 0, 0, 0.15);\n",
              "      filter: drop-shadow(0px 1px 2px rgba(0, 0, 0, 0.3));\n",
              "      fill: #FFFFFF;\n",
              "    }\n",
              "  </style>\n",
              "\n",
              "      <script>\n",
              "        const buttonEl =\n",
              "          document.querySelector('#df-06abc7db-d6a4-4123-8e13-f319c39d5470 button.colab-df-convert');\n",
              "        buttonEl.style.display =\n",
              "          google.colab.kernel.accessAllowed ? 'block' : 'none';\n",
              "\n",
              "        async function convertToInteractive(key) {\n",
              "          const element = document.querySelector('#df-06abc7db-d6a4-4123-8e13-f319c39d5470');\n",
              "          const dataTable =\n",
              "            await google.colab.kernel.invokeFunction('convertToInteractive',\n",
              "                                                     [key], {});\n",
              "          if (!dataTable) return;\n",
              "\n",
              "          const docLinkHtml = 'Like what you see? Visit the ' +\n",
              "            '<a target=\"_blank\" href=https://colab.research.google.com/notebooks/data_table.ipynb>data table notebook</a>'\n",
              "            + ' to learn more about interactive tables.';\n",
              "          element.innerHTML = '';\n",
              "          dataTable['output_type'] = 'display_data';\n",
              "          await google.colab.output.renderOutput(dataTable, element);\n",
              "          const docLink = document.createElement('div');\n",
              "          docLink.innerHTML = docLinkHtml;\n",
              "          element.appendChild(docLink);\n",
              "        }\n",
              "      </script>\n",
              "    </div>\n",
              "  </div>\n",
              "  "
            ]
          },
          "metadata": {},
          "execution_count": 45
        }
      ]
    },
    {
      "cell_type": "markdown",
      "source": [
        "\n",
        "\n",
        "---\n",
        "\n"
      ],
      "metadata": {
        "id": "7n6RtxxzQ92c"
      }
    },
    {
      "cell_type": "markdown",
      "source": [
        "**Splitting the data to training data & Test data**"
      ],
      "metadata": {
        "id": "nbydAMa9ROnR"
      }
    },
    {
      "cell_type": "code",
      "source": [
        "X_train, X_test, Y_train, Y_test = train_test_split(X, Y, test_size=0.2, random_state=2)"
      ],
      "metadata": {
        "colab": {
          "base_uri": "https://localhost:8080/",
          "height": 311
        },
        "id": "--QQ0IydRPue",
        "outputId": "f5bc0376-c303-4e81-c7cf-ff3348d46a28"
      },
      "execution_count": 55,
      "outputs": [
        {
          "output_type": "error",
          "ename": "ValueError",
          "evalue": "ignored",
          "traceback": [
            "\u001b[0;31m---------------------------------------------------------------------------\u001b[0m",
            "\u001b[0;31mValueError\u001b[0m                                Traceback (most recent call last)",
            "\u001b[0;32m<ipython-input-55-8069cc9837ba>\u001b[0m in \u001b[0;36m<module>\u001b[0;34m\u001b[0m\n\u001b[0;32m----> 1\u001b[0;31m \u001b[0mX_train\u001b[0m\u001b[0;34m,\u001b[0m \u001b[0mX_test\u001b[0m\u001b[0;34m,\u001b[0m \u001b[0mY_train\u001b[0m\u001b[0;34m,\u001b[0m \u001b[0mY_test\u001b[0m \u001b[0;34m=\u001b[0m \u001b[0mtrain_test_split\u001b[0m\u001b[0;34m(\u001b[0m\u001b[0mX\u001b[0m\u001b[0;34m,\u001b[0m \u001b[0mY\u001b[0m\u001b[0;34m,\u001b[0m \u001b[0mtest_size\u001b[0m\u001b[0;34m=\u001b[0m\u001b[0;36m0.2\u001b[0m\u001b[0;34m,\u001b[0m \u001b[0mrandom_state\u001b[0m\u001b[0;34m=\u001b[0m\u001b[0;36m2\u001b[0m\u001b[0;34m)\u001b[0m\u001b[0;34m\u001b[0m\u001b[0;34m\u001b[0m\u001b[0m\n\u001b[0m",
            "\u001b[0;32m/usr/local/lib/python3.9/dist-packages/sklearn/model_selection/_split.py\u001b[0m in \u001b[0;36mtrain_test_split\u001b[0;34m(test_size, train_size, random_state, shuffle, stratify, *arrays)\u001b[0m\n\u001b[1;32m   2557\u001b[0m         \u001b[0;32mraise\u001b[0m \u001b[0mValueError\u001b[0m\u001b[0;34m(\u001b[0m\u001b[0;34m\"At least one array required as input\"\u001b[0m\u001b[0;34m)\u001b[0m\u001b[0;34m\u001b[0m\u001b[0;34m\u001b[0m\u001b[0m\n\u001b[1;32m   2558\u001b[0m \u001b[0;34m\u001b[0m\u001b[0m\n\u001b[0;32m-> 2559\u001b[0;31m     \u001b[0marrays\u001b[0m \u001b[0;34m=\u001b[0m \u001b[0mindexable\u001b[0m\u001b[0;34m(\u001b[0m\u001b[0;34m*\u001b[0m\u001b[0marrays\u001b[0m\u001b[0;34m)\u001b[0m\u001b[0;34m\u001b[0m\u001b[0;34m\u001b[0m\u001b[0m\n\u001b[0m\u001b[1;32m   2560\u001b[0m \u001b[0;34m\u001b[0m\u001b[0m\n\u001b[1;32m   2561\u001b[0m     \u001b[0mn_samples\u001b[0m \u001b[0;34m=\u001b[0m \u001b[0m_num_samples\u001b[0m\u001b[0;34m(\u001b[0m\u001b[0marrays\u001b[0m\u001b[0;34m[\u001b[0m\u001b[0;36m0\u001b[0m\u001b[0;34m]\u001b[0m\u001b[0;34m)\u001b[0m\u001b[0;34m\u001b[0m\u001b[0;34m\u001b[0m\u001b[0m\n",
            "\u001b[0;32m/usr/local/lib/python3.9/dist-packages/sklearn/utils/validation.py\u001b[0m in \u001b[0;36mindexable\u001b[0;34m(*iterables)\u001b[0m\n\u001b[1;32m    441\u001b[0m \u001b[0;34m\u001b[0m\u001b[0m\n\u001b[1;32m    442\u001b[0m     \u001b[0mresult\u001b[0m \u001b[0;34m=\u001b[0m \u001b[0;34m[\u001b[0m\u001b[0m_make_indexable\u001b[0m\u001b[0;34m(\u001b[0m\u001b[0mX\u001b[0m\u001b[0;34m)\u001b[0m \u001b[0;32mfor\u001b[0m \u001b[0mX\u001b[0m \u001b[0;32min\u001b[0m \u001b[0miterables\u001b[0m\u001b[0;34m]\u001b[0m\u001b[0;34m\u001b[0m\u001b[0;34m\u001b[0m\u001b[0m\n\u001b[0;32m--> 443\u001b[0;31m     \u001b[0mcheck_consistent_length\u001b[0m\u001b[0;34m(\u001b[0m\u001b[0;34m*\u001b[0m\u001b[0mresult\u001b[0m\u001b[0;34m)\u001b[0m\u001b[0;34m\u001b[0m\u001b[0;34m\u001b[0m\u001b[0m\n\u001b[0m\u001b[1;32m    444\u001b[0m     \u001b[0;32mreturn\u001b[0m \u001b[0mresult\u001b[0m\u001b[0;34m\u001b[0m\u001b[0;34m\u001b[0m\u001b[0m\n\u001b[1;32m    445\u001b[0m \u001b[0;34m\u001b[0m\u001b[0m\n",
            "\u001b[0;32m/usr/local/lib/python3.9/dist-packages/sklearn/utils/validation.py\u001b[0m in \u001b[0;36mcheck_consistent_length\u001b[0;34m(*arrays)\u001b[0m\n\u001b[1;32m    395\u001b[0m     \u001b[0muniques\u001b[0m \u001b[0;34m=\u001b[0m \u001b[0mnp\u001b[0m\u001b[0;34m.\u001b[0m\u001b[0munique\u001b[0m\u001b[0;34m(\u001b[0m\u001b[0mlengths\u001b[0m\u001b[0;34m)\u001b[0m\u001b[0;34m\u001b[0m\u001b[0;34m\u001b[0m\u001b[0m\n\u001b[1;32m    396\u001b[0m     \u001b[0;32mif\u001b[0m \u001b[0mlen\u001b[0m\u001b[0;34m(\u001b[0m\u001b[0muniques\u001b[0m\u001b[0;34m)\u001b[0m \u001b[0;34m>\u001b[0m \u001b[0;36m1\u001b[0m\u001b[0;34m:\u001b[0m\u001b[0;34m\u001b[0m\u001b[0;34m\u001b[0m\u001b[0m\n\u001b[0;32m--> 397\u001b[0;31m         raise ValueError(\n\u001b[0m\u001b[1;32m    398\u001b[0m             \u001b[0;34m\"Found input variables with inconsistent numbers of samples: %r\"\u001b[0m\u001b[0;34m\u001b[0m\u001b[0;34m\u001b[0m\u001b[0m\n\u001b[1;32m    399\u001b[0m             \u001b[0;34m%\u001b[0m \u001b[0;34m[\u001b[0m\u001b[0mint\u001b[0m\u001b[0;34m(\u001b[0m\u001b[0ml\u001b[0m\u001b[0;34m)\u001b[0m \u001b[0;32mfor\u001b[0m \u001b[0ml\u001b[0m \u001b[0;32min\u001b[0m \u001b[0mlengths\u001b[0m\u001b[0;34m]\u001b[0m\u001b[0;34m\u001b[0m\u001b[0;34m\u001b[0m\u001b[0m\n",
            "\u001b[0;31mValueError\u001b[0m: Found input variables with inconsistent numbers of samples: [239, 240]"
          ]
        }
      ]
    },
    {
      "cell_type": "code",
      "source": [
        "print(X)"
      ],
      "metadata": {
        "colab": {
          "base_uri": "https://localhost:8080/"
        },
        "id": "POKuodnBVWrO",
        "outputId": "1080041b-3a0b-4f9e-e701-d1dfbdd74958"
      },
      "execution_count": 47,
      "outputs": [
        {
          "output_type": "stream",
          "name": "stdout",
          "text": [
            "     Status  Gender  Jitter_rel  Jitter_abs  Jitter_RAP  Jitter_PPQ  Shim_loc  \\\n",
            "0         0       1     0.25546    0.000015    0.001467    0.001673  0.030256   \n",
            "1         0       1     0.36964    0.000022    0.001932    0.002245  0.023146   \n",
            "2         0       1     0.23514    0.000013    0.001353    0.001546  0.019338   \n",
            "3         0       0     0.29320    0.000017    0.001105    0.001444  0.024716   \n",
            "4         0       0     0.23075    0.000015    0.001073    0.001404  0.013119   \n",
            "..      ...     ...         ...         ...         ...         ...       ...   \n",
            "234       1       0     0.28700    0.000018    0.001605    0.001741  0.013511   \n",
            "235       1       0     0.57585    0.000037    0.003701    0.005149  0.016868   \n",
            "236       1       0     0.23322    0.000015    0.001270    0.001497  0.017923   \n",
            "237       1       0     0.26862    0.000022    0.001354    0.001615  0.028040   \n",
            "238       1       0     0.45376    0.000037    0.002724    0.002258  0.064605   \n",
            "\n",
            "     Shim_dB  Shim_APQ3  Shim_APQ5  \n",
            "0    0.26313   0.017463   0.019660  \n",
            "1    0.20217   0.013010   0.014097  \n",
            "2    0.16710   0.011049   0.012683  \n",
            "3    0.20892   0.014525   0.015696  \n",
            "4    0.11607   0.006461   0.008385  \n",
            "..       ...        ...        ...  \n",
            "234  0.11953   0.007339   0.008148  \n",
            "235  0.14928   0.008835   0.010232  \n",
            "236  0.16720   0.008436   0.011578  \n",
            "237  0.24182   0.015937   0.015441  \n",
            "238  0.58002   0.041295   0.027626  \n",
            "\n",
            "[239 rows x 10 columns]\n"
          ]
        }
      ]
    },
    {
      "cell_type": "markdown",
      "source": [
        "\n",
        "\n",
        "---\n",
        "\n"
      ],
      "metadata": {
        "id": "nI_tIuVdTP8r"
      }
    },
    {
      "cell_type": "markdown",
      "source": [
        "**Separating the features & Target**"
      ],
      "metadata": {
        "id": "Ox1U35GFTQ7G"
      }
    },
    {
      "cell_type": "code",
      "source": [
        " X = parkinsons_data.iloc[ 0:240, 2:12]\n",
        "Y = parkinsons_data['Status']"
      ],
      "metadata": {
        "id": "IXtcIlpcTPqq"
      },
      "execution_count": 62,
      "outputs": []
    },
    {
      "cell_type": "code",
      "source": [
        "print(X)"
      ],
      "metadata": {
        "colab": {
          "base_uri": "https://localhost:8080/"
        },
        "id": "KSUwU_ZlTSF9",
        "outputId": "3d0cdaea-24dd-4f81-e717-cd910119ce5a"
      },
      "execution_count": 63,
      "outputs": [
        {
          "output_type": "stream",
          "name": "stdout",
          "text": [
            "     Status  Gender  Jitter_rel  Jitter_abs  Jitter_RAP  Jitter_PPQ  Shim_loc  \\\n",
            "0         0       1     0.25546    0.000015    0.001467    0.001673  0.030256   \n",
            "1         0       1     0.36964    0.000022    0.001932    0.002245  0.023146   \n",
            "2         0       1     0.23514    0.000013    0.001353    0.001546  0.019338   \n",
            "3         0       0     0.29320    0.000017    0.001105    0.001444  0.024716   \n",
            "4         0       0     0.23075    0.000015    0.001073    0.001404  0.013119   \n",
            "..      ...     ...         ...         ...         ...         ...       ...   \n",
            "235       1       0     0.57585    0.000037    0.003701    0.005149  0.016868   \n",
            "236       1       0     0.23322    0.000015    0.001270    0.001497  0.017923   \n",
            "237       1       0     0.26862    0.000022    0.001354    0.001615  0.028040   \n",
            "238       1       0     0.45376    0.000037    0.002724    0.002258  0.064605   \n",
            "239       1       0     0.34706    0.000028    0.001746    0.002060  0.019914   \n",
            "\n",
            "     Shim_dB  Shim_APQ3  Shim_APQ5  \n",
            "0    0.26313   0.017463   0.019660  \n",
            "1    0.20217   0.013010   0.014097  \n",
            "2    0.16710   0.011049   0.012683  \n",
            "3    0.20892   0.014525   0.015696  \n",
            "4    0.11607   0.006461   0.008385  \n",
            "..       ...        ...        ...  \n",
            "235  0.14928   0.008835   0.010232  \n",
            "236  0.16720   0.008436   0.011578  \n",
            "237  0.24182   0.015937   0.015441  \n",
            "238  0.58002   0.041295   0.027626  \n",
            "239  0.17087   0.011060   0.012432  \n",
            "\n",
            "[240 rows x 10 columns]\n"
          ]
        }
      ]
    },
    {
      "cell_type": "code",
      "source": [
        "print(Y)"
      ],
      "metadata": {
        "colab": {
          "base_uri": "https://localhost:8080/"
        },
        "id": "8zv3b0iXXdNm",
        "outputId": "90895968-c627-4ab3-dcf5-a6cd8396d23d"
      },
      "execution_count": 64,
      "outputs": [
        {
          "output_type": "stream",
          "name": "stdout",
          "text": [
            "0      0\n",
            "1      0\n",
            "2      0\n",
            "3      0\n",
            "4      0\n",
            "      ..\n",
            "235    1\n",
            "236    1\n",
            "237    1\n",
            "238    1\n",
            "239    1\n",
            "Name: Status, Length: 240, dtype: int64\n"
          ]
        }
      ]
    },
    {
      "cell_type": "markdown",
      "source": [
        "\n",
        "\n",
        "---\n",
        "\n"
      ],
      "metadata": {
        "id": "IPp6RncxXojy"
      }
    },
    {
      "cell_type": "markdown",
      "source": [
        "**Splitting the data to training data & Test data**"
      ],
      "metadata": {
        "id": "0k9OJZDOXpJi"
      }
    },
    {
      "cell_type": "code",
      "source": [
        "X_train, X_test, Y_train, Y_test = train_test_split(X, Y, test_size=0.2, random_state=2)"
      ],
      "metadata": {
        "id": "wMcI4Kn0Xsnp"
      },
      "execution_count": 65,
      "outputs": []
    },
    {
      "cell_type": "code",
      "source": [
        "print(X.shape, X_train.shape, X_test.shape)"
      ],
      "metadata": {
        "colab": {
          "base_uri": "https://localhost:8080/"
        },
        "id": "qHuj1CZoXvBr",
        "outputId": "681434af-0103-4d04-cf74-e5b56b9dc6ad"
      },
      "execution_count": 66,
      "outputs": [
        {
          "output_type": "stream",
          "name": "stdout",
          "text": [
            "(240, 10) (192, 10) (48, 10)\n"
          ]
        }
      ]
    },
    {
      "cell_type": "markdown",
      "source": [
        "\n",
        "\n",
        "---\n",
        "\n"
      ],
      "metadata": {
        "id": "wcOviRxLXxKP"
      }
    },
    {
      "cell_type": "markdown",
      "source": [
        "**MODEL EVALUVATION**"
      ],
      "metadata": {
        "id": "IgMmeU-iX4SM"
      }
    },
    {
      "cell_type": "code",
      "source": [
        "!pip install lazypredict\n",
        "\n",
        "import lazypredict\n",
        "from lazypredict.Supervised import LazyClassifier\n",
        "\n",
        "\n",
        "from lazypredict.Supervised import LazyRegressor\n",
        "from pandas.plotting import scatter_matrix\n",
        "\n",
        "reg = LazyRegressor(ignore_warnings=False, custom_metric=None)\n",
        "models, predictions = reg.fit(X_train, X_test, Y_train, Y_test)\n",
        "print(models)"
      ],
      "metadata": {
        "colab": {
          "base_uri": "https://localhost:8080/"
        },
        "id": "Ktw2Juz2X33f",
        "outputId": "a062de09-a1cf-4370-ae01-7c8693b1697a"
      },
      "execution_count": 67,
      "outputs": [
        {
          "output_type": "stream",
          "name": "stdout",
          "text": [
            "Looking in indexes: https://pypi.org/simple, https://us-python.pkg.dev/colab-wheels/public/simple/\n",
            "Collecting lazypredict\n",
            "  Downloading lazypredict-0.2.12-py2.py3-none-any.whl (12 kB)\n",
            "Requirement already satisfied: joblib in /usr/local/lib/python3.9/dist-packages (from lazypredict) (1.1.1)\n",
            "Requirement already satisfied: scikit-learn in /usr/local/lib/python3.9/dist-packages (from lazypredict) (1.2.2)\n",
            "Requirement already satisfied: lightgbm in /usr/local/lib/python3.9/dist-packages (from lazypredict) (3.3.5)\n",
            "Requirement already satisfied: xgboost in /usr/local/lib/python3.9/dist-packages (from lazypredict) (1.7.4)\n",
            "Requirement already satisfied: tqdm in /usr/local/lib/python3.9/dist-packages (from lazypredict) (4.65.0)\n",
            "Requirement already satisfied: click in /usr/local/lib/python3.9/dist-packages (from lazypredict) (8.1.3)\n",
            "Requirement already satisfied: pandas in /usr/local/lib/python3.9/dist-packages (from lazypredict) (1.4.4)\n",
            "Requirement already satisfied: scipy in /usr/local/lib/python3.9/dist-packages (from lightgbm->lazypredict) (1.10.1)\n",
            "Requirement already satisfied: numpy in /usr/local/lib/python3.9/dist-packages (from lightgbm->lazypredict) (1.22.4)\n",
            "Requirement already satisfied: wheel in /usr/local/lib/python3.9/dist-packages (from lightgbm->lazypredict) (0.40.0)\n",
            "Requirement already satisfied: threadpoolctl>=2.0.0 in /usr/local/lib/python3.9/dist-packages (from scikit-learn->lazypredict) (3.1.0)\n",
            "Requirement already satisfied: python-dateutil>=2.8.1 in /usr/local/lib/python3.9/dist-packages (from pandas->lazypredict) (2.8.2)\n",
            "Requirement already satisfied: pytz>=2020.1 in /usr/local/lib/python3.9/dist-packages (from pandas->lazypredict) (2022.7.1)\n",
            "Requirement already satisfied: six>=1.5 in /usr/local/lib/python3.9/dist-packages (from python-dateutil>=2.8.1->pandas->lazypredict) (1.16.0)\n",
            "Installing collected packages: lazypredict\n",
            "Successfully installed lazypredict-0.2.12\n"
          ]
        },
        {
          "output_type": "stream",
          "name": "stderr",
          "text": [
            " 24%|██▍       | 10/42 [00:00<00:01, 18.23it/s]"
          ]
        },
        {
          "output_type": "stream",
          "name": "stdout",
          "text": [
            "GammaRegressor model failed to execute\n",
            "Some value(s) of y are out of the valid range of the loss 'HalfGammaLoss'.\n"
          ]
        },
        {
          "output_type": "stream",
          "name": "stderr",
          "text": [
            "100%|██████████| 42/42 [00:04<00:00, 10.19it/s]"
          ]
        },
        {
          "output_type": "stream",
          "name": "stdout",
          "text": [
            "                               Adjusted R-Squared  R-Squared  RMSE  Time Taken\n",
            "Model                                                                         \n",
            "AdaBoostRegressor                            1.00       1.00  0.00        0.03\n",
            "KNeighborsRegressor                          1.00       1.00  0.00        0.04\n",
            "TransformedTargetRegressor                   1.00       1.00  0.00        0.01\n",
            "RandomForestRegressor                        1.00       1.00  0.00        0.16\n",
            "RANSACRegressor                              1.00       1.00  0.00        0.28\n",
            "OrthogonalMatchingPursuitCV                  1.00       1.00  0.00        0.02\n",
            "OrthogonalMatchingPursuit                    1.00       1.00  0.00        0.02\n",
            "LinearRegression                             1.00       1.00  0.00        0.02\n",
            "LassoLarsIC                                  1.00       1.00  0.00        0.03\n",
            "BaggingRegressor                             1.00       1.00  0.00        0.05\n",
            "LarsCV                                       1.00       1.00  0.00        0.06\n",
            "Lars                                         1.00       1.00  0.00        0.06\n",
            "LassoLarsCV                                  1.00       1.00  0.00        0.02\n",
            "ExtraTreesRegressor                          1.00       1.00  0.00        0.19\n",
            "BayesianRidge                                1.00       1.00  0.00        0.05\n",
            "DecisionTreeRegressor                        1.00       1.00  0.00        0.02\n",
            "ExtraTreeRegressor                           1.00       1.00  0.00        0.02\n",
            "HuberRegressor                               1.00       1.00  0.00        0.08\n",
            "LinearSVR                                    1.00       1.00  0.00        0.02\n",
            "GradientBoostingRegressor                    1.00       1.00  0.00        0.19\n",
            "LGBMRegressor                                1.00       1.00  0.00        0.08\n",
            "HistGradientBoostingRegressor                1.00       1.00  0.00        0.20\n",
            "XGBRegressor                                 1.00       1.00  0.00        0.16\n",
            "RidgeCV                                      1.00       1.00  0.00        0.02\n",
            "LassoCV                                      1.00       1.00  0.00        0.12\n",
            "ElasticNetCV                                 1.00       1.00  0.00        0.12\n",
            "Ridge                                        1.00       1.00  0.00        0.01\n",
            "NuSVR                                        1.00       1.00  0.01        0.04\n",
            "SGDRegressor                                 1.00       1.00  0.02        0.02\n",
            "PassiveAggressiveRegressor                   0.99       1.00  0.03        0.03\n",
            "MLPRegressor                                 0.99       0.99  0.05        0.24\n",
            "SVR                                          0.98       0.98  0.07        0.01\n",
            "GaussianProcessRegressor                     0.91       0.93  0.13        0.05\n",
            "TweedieRegressor                             0.67       0.74  0.26        0.02\n",
            "PoissonRegressor                             0.40       0.53  0.34        0.30\n",
            "KernelRidge                                 -0.25       0.02  0.49        0.05\n",
            "DummyRegressor                              -0.27      -0.00  0.50        0.01\n",
            "Lasso                                       -0.27      -0.00  0.50        0.02\n",
            "LassoLars                                   -0.27      -0.00  0.50        0.02\n",
            "ElasticNet                                  -0.27      -0.00  0.50        0.02\n",
            "QuantileRegressor                           -1.65      -1.09  0.72        1.16\n"
          ]
        },
        {
          "output_type": "stream",
          "name": "stderr",
          "text": [
            "\n"
          ]
        }
      ]
    },
    {
      "cell_type": "markdown",
      "source": [
        "\n",
        "\n",
        "---\n",
        "\n"
      ],
      "metadata": {
        "id": "MfgcQFNiX2gD"
      }
    },
    {
      "cell_type": "markdown",
      "source": [
        "**Data Standardization**\n"
      ],
      "metadata": {
        "id": "AG-2cyvyRFzH"
      }
    },
    {
      "cell_type": "code",
      "source": [
        "scaler = StandardScaler()"
      ],
      "metadata": {
        "id": "XSZzQGK8RHKw"
      },
      "execution_count": 48,
      "outputs": []
    },
    {
      "cell_type": "code",
      "source": [
        "scaler.fit(X)"
      ],
      "metadata": {
        "colab": {
          "base_uri": "https://localhost:8080/",
          "height": 75
        },
        "id": "h0Kd018aRn4M",
        "outputId": "69f1dc49-2f94-4fbf-b121-302f6846cef3"
      },
      "execution_count": 49,
      "outputs": [
        {
          "output_type": "execute_result",
          "data": {
            "text/plain": [
              "StandardScaler()"
            ],
            "text/html": [
              "<style>#sk-container-id-1 {color: black;background-color: white;}#sk-container-id-1 pre{padding: 0;}#sk-container-id-1 div.sk-toggleable {background-color: white;}#sk-container-id-1 label.sk-toggleable__label {cursor: pointer;display: block;width: 100%;margin-bottom: 0;padding: 0.3em;box-sizing: border-box;text-align: center;}#sk-container-id-1 label.sk-toggleable__label-arrow:before {content: \"▸\";float: left;margin-right: 0.25em;color: #696969;}#sk-container-id-1 label.sk-toggleable__label-arrow:hover:before {color: black;}#sk-container-id-1 div.sk-estimator:hover label.sk-toggleable__label-arrow:before {color: black;}#sk-container-id-1 div.sk-toggleable__content {max-height: 0;max-width: 0;overflow: hidden;text-align: left;background-color: #f0f8ff;}#sk-container-id-1 div.sk-toggleable__content pre {margin: 0.2em;color: black;border-radius: 0.25em;background-color: #f0f8ff;}#sk-container-id-1 input.sk-toggleable__control:checked~div.sk-toggleable__content {max-height: 200px;max-width: 100%;overflow: auto;}#sk-container-id-1 input.sk-toggleable__control:checked~label.sk-toggleable__label-arrow:before {content: \"▾\";}#sk-container-id-1 div.sk-estimator input.sk-toggleable__control:checked~label.sk-toggleable__label {background-color: #d4ebff;}#sk-container-id-1 div.sk-label input.sk-toggleable__control:checked~label.sk-toggleable__label {background-color: #d4ebff;}#sk-container-id-1 input.sk-hidden--visually {border: 0;clip: rect(1px 1px 1px 1px);clip: rect(1px, 1px, 1px, 1px);height: 1px;margin: -1px;overflow: hidden;padding: 0;position: absolute;width: 1px;}#sk-container-id-1 div.sk-estimator {font-family: monospace;background-color: #f0f8ff;border: 1px dotted black;border-radius: 0.25em;box-sizing: border-box;margin-bottom: 0.5em;}#sk-container-id-1 div.sk-estimator:hover {background-color: #d4ebff;}#sk-container-id-1 div.sk-parallel-item::after {content: \"\";width: 100%;border-bottom: 1px solid gray;flex-grow: 1;}#sk-container-id-1 div.sk-label:hover label.sk-toggleable__label {background-color: #d4ebff;}#sk-container-id-1 div.sk-serial::before {content: \"\";position: absolute;border-left: 1px solid gray;box-sizing: border-box;top: 0;bottom: 0;left: 50%;z-index: 0;}#sk-container-id-1 div.sk-serial {display: flex;flex-direction: column;align-items: center;background-color: white;padding-right: 0.2em;padding-left: 0.2em;position: relative;}#sk-container-id-1 div.sk-item {position: relative;z-index: 1;}#sk-container-id-1 div.sk-parallel {display: flex;align-items: stretch;justify-content: center;background-color: white;position: relative;}#sk-container-id-1 div.sk-item::before, #sk-container-id-1 div.sk-parallel-item::before {content: \"\";position: absolute;border-left: 1px solid gray;box-sizing: border-box;top: 0;bottom: 0;left: 50%;z-index: -1;}#sk-container-id-1 div.sk-parallel-item {display: flex;flex-direction: column;z-index: 1;position: relative;background-color: white;}#sk-container-id-1 div.sk-parallel-item:first-child::after {align-self: flex-end;width: 50%;}#sk-container-id-1 div.sk-parallel-item:last-child::after {align-self: flex-start;width: 50%;}#sk-container-id-1 div.sk-parallel-item:only-child::after {width: 0;}#sk-container-id-1 div.sk-dashed-wrapped {border: 1px dashed gray;margin: 0 0.4em 0.5em 0.4em;box-sizing: border-box;padding-bottom: 0.4em;background-color: white;}#sk-container-id-1 div.sk-label label {font-family: monospace;font-weight: bold;display: inline-block;line-height: 1.2em;}#sk-container-id-1 div.sk-label-container {text-align: center;}#sk-container-id-1 div.sk-container {/* jupyter's `normalize.less` sets `[hidden] { display: none; }` but bootstrap.min.css set `[hidden] { display: none !important; }` so we also need the `!important` here to be able to override the default hidden behavior on the sphinx rendered scikit-learn.org. See: https://github.com/scikit-learn/scikit-learn/issues/21755 */display: inline-block !important;position: relative;}#sk-container-id-1 div.sk-text-repr-fallback {display: none;}</style><div id=\"sk-container-id-1\" class=\"sk-top-container\"><div class=\"sk-text-repr-fallback\"><pre>StandardScaler()</pre><b>In a Jupyter environment, please rerun this cell to show the HTML representation or trust the notebook. <br />On GitHub, the HTML representation is unable to render, please try loading this page with nbviewer.org.</b></div><div class=\"sk-container\" hidden><div class=\"sk-item\"><div class=\"sk-estimator sk-toggleable\"><input class=\"sk-toggleable__control sk-hidden--visually\" id=\"sk-estimator-id-1\" type=\"checkbox\" checked><label for=\"sk-estimator-id-1\" class=\"sk-toggleable__label sk-toggleable__label-arrow\">StandardScaler</label><div class=\"sk-toggleable__content\"><pre>StandardScaler()</pre></div></div></div></div></div>"
            ]
          },
          "metadata": {},
          "execution_count": 49
        }
      ]
    },
    {
      "cell_type": "code",
      "source": [
        "X_train = scaler.transform(X_train)\n",
        "\n",
        "X_test = scaler.transform(X_test)"
      ],
      "metadata": {
        "id": "ZKPkzflbZCcW"
      },
      "execution_count": 68,
      "outputs": []
    },
    {
      "cell_type": "code",
      "source": [
        "print(X_train)"
      ],
      "metadata": {
        "colab": {
          "base_uri": "https://localhost:8080/"
        },
        "id": "KGwxiwJPZEOb",
        "outputId": "40911dbc-521d-4ccc-8d15-521cc7246e5c"
      },
      "execution_count": 69,
      "outputs": [
        {
          "output_type": "stream",
          "name": "stdout",
          "text": [
            "[[ 1.00419289 -0.81934649 -0.24553751 ... -0.13287245 -0.1275334\n",
            "  -0.2937534 ]\n",
            " [-0.99582462 -0.81934649 -0.29182921 ... -0.21908128 -1.0175276\n",
            "  -0.9691546 ]\n",
            " [-0.99582462 -0.81934649 -0.26362152 ... -0.17375725 -0.53689558\n",
            "  -0.56613296]\n",
            " ...\n",
            " [ 1.00419289 -0.81934649 -0.2767452  ... -0.15944252 -0.40712261\n",
            "  -0.56126656]\n",
            " [-0.99582462  1.22048488 -0.25280822 ... -0.22143739 -0.93611267\n",
            "  -0.96281437]\n",
            " [ 1.00419289 -0.81934649  2.55511746 ...  0.12969476  1.97701087\n",
            "   1.82375785]]\n"
          ]
        }
      ]
    },
    {
      "cell_type": "markdown",
      "source": [
        "\n",
        "\n",
        "---\n",
        "\n"
      ],
      "metadata": {
        "id": "9OUWHPRjYsRk"
      }
    },
    {
      "cell_type": "markdown",
      "source": [
        "**Model Training**"
      ],
      "metadata": {
        "id": "UUspeK17Ys9b"
      }
    },
    {
      "cell_type": "code",
      "source": [
        "from sklearn.ensemble import AdaBoostRegressor\n",
        "from sklearn.datasets import make_regression\n",
        "regr = AdaBoostRegressor(random_state=0, n_estimators=100)\n",
        "regr.fit(X, Y)\n",
        "\n",
        "regr.predict(X)\n",
        "\n",
        "regr.score(X, Y)"
      ],
      "metadata": {
        "colab": {
          "base_uri": "https://localhost:8080/"
        },
        "id": "rzutlb83ZLr3",
        "outputId": "04a10c0a-9ab0-4b25-c930-12deada3bd15"
      },
      "execution_count": 82,
      "outputs": [
        {
          "output_type": "execute_result",
          "data": {
            "text/plain": [
              "1.0"
            ]
          },
          "metadata": {},
          "execution_count": 82
        }
      ]
    },
    {
      "cell_type": "markdown",
      "source": [
        "\n",
        "\n",
        "---\n",
        "\n"
      ],
      "metadata": {
        "id": "wdBRi7gLZzA8"
      }
    },
    {
      "cell_type": "markdown",
      "source": [
        "**Model Evaluation**"
      ],
      "metadata": {
        "id": "-OQDDnh-aKaC"
      }
    },
    {
      "cell_type": "code",
      "source": [
        "# accuracy score on training data\n",
        "X_train_prediction = regr.predict(X_train)\n",
        "training_data_accuracy = accuracy_score(Y_train, X_train_prediction)"
      ],
      "metadata": {
        "id": "JFx8JszNZe09"
      },
      "execution_count": 83,
      "outputs": []
    },
    {
      "cell_type": "code",
      "source": [
        "print('Accuracy score of training data : ', training_data_accuracy)"
      ],
      "metadata": {
        "colab": {
          "base_uri": "https://localhost:8080/"
        },
        "id": "38Va6_b1aa2G",
        "outputId": "c7209181-aaad-4ecf-e23a-e0223a16787c"
      },
      "execution_count": 84,
      "outputs": [
        {
          "output_type": "stream",
          "name": "stdout",
          "text": [
            "Accuracy score of training data :  1.0\n"
          ]
        }
      ]
    },
    {
      "cell_type": "markdown",
      "source": [
        "\n",
        "\n",
        "---\n",
        "\n"
      ],
      "metadata": {
        "id": "AoujeVcbbA5Z"
      }
    },
    {
      "cell_type": "markdown",
      "source": [
        "**Building a Predictive System**"
      ],
      "metadata": {
        "id": "xdbAnLQpbBeF"
      }
    },
    {
      "cell_type": "code",
      "source": [
        "input_data = (1,0.25546,0.000014581,0.001467,0.0016734,0.030256,0.26313,0.017463,0.01966,0.021882)\n",
        "\n",
        "# changing input data to a numpy array\n",
        "input_data_as_numpy_array = np.asarray(input_data)\n",
        "\n",
        "# reshape the numpy array\n",
        "input_data_reshaped = input_data_as_numpy_array.reshape(1,-1)\n",
        "\n",
        "# standardize the data\n",
        "std_data = scaler.transform(input_data_reshaped)\n",
        "\n",
        "prediction = model.predict(std_data)\n",
        "print(prediction)\n",
        "\n",
        "\n",
        "if (prediction[0] == 0):\n",
        "  print(\"The Person does not have Parkinsons Disease\")\n",
        "\n",
        "else:\n",
        "  print(\"The Person has Parkinsons\")\n"
      ],
      "metadata": {
        "colab": {
          "base_uri": "https://localhost:8080/"
        },
        "id": "FSxiRtkkan8Z",
        "outputId": "1eee11a9-a307-483a-8dea-38e827f15b5e"
      },
      "execution_count": 85,
      "outputs": [
        {
          "output_type": "stream",
          "name": "stdout",
          "text": [
            "[1]\n",
            "The Person has Parkinsons\n"
          ]
        }
      ]
    },
    {
      "cell_type": "markdown",
      "source": [
        "\n",
        "\n",
        "---\n",
        "\n"
      ],
      "metadata": {
        "id": "nFOThlP0bGN3"
      }
    }
  ]
}